{
 "cells": [
  {
   "cell_type": "code",
   "execution_count": 35,
   "id": "initial_id",
   "metadata": {
    "ExecuteTime": {
     "end_time": "2024-02-18T04:21:18.676460400Z",
     "start_time": "2024-02-18T04:21:18.665386900Z"
    }
   },
   "outputs": [],
   "source": [
    "import pandas as pd"
   ]
  },
  {
   "cell_type": "code",
   "execution_count": 40,
   "id": "acbc3ffb9183b43b",
   "metadata": {
    "collapsed": false,
    "ExecuteTime": {
     "end_time": "2024-02-18T04:25:27.633381600Z",
     "start_time": "2024-02-18T04:25:27.622376300Z"
    }
   },
   "outputs": [],
   "source": [
    "df = pd.read_csv('vehicle_data.csv')"
   ]
  },
  {
   "cell_type": "code",
   "execution_count": 41,
   "id": "6adaa71dbd0787ca",
   "metadata": {
    "collapsed": false,
    "ExecuteTime": {
     "end_time": "2024-02-18T04:25:27.880937400Z",
     "start_time": "2024-02-18T04:25:27.851646400Z"
    }
   },
   "outputs": [
    {
     "data": {
      "text/plain": "   car_weight     timestamp  vehicle_id  gear  throttle     speed  \\\n0       995.0  1.708230e+09           0     0      0.85  1.061666   \n1      1265.0  1.708230e+09           1     0      0.85  0.816888   \n2       995.0  1.708230e+09           0     0      0.85  0.274379   \n3      1265.0  1.708230e+09           1     0      0.85  0.239637   \n4       995.0  1.708230e+09           0     0      0.85  0.076757   \n5      1265.0  1.708230e+09           1     1      0.85  1.162808   \n6       995.0  1.708230e+09           0     1      0.85  1.681099   \n7      1265.0  1.708230e+09           1     1      0.85  1.434408   \n8       995.0  1.708230e+09           0     1      0.85  2.277262   \n9      1265.0  1.708230e+09           1     1      0.85  2.432159   \n\n   acceleration  max_rpm  gear_ratio  wheel_radius  engine_rpm  inclination  \\\n0     25.723639   6300.0       3.450          0.33   30.737297     0.068049   \n1     28.389387   4700.0       3.769          0.34   22.954885     0.000000   \n2      0.511401   6300.0       3.450          0.33    7.943791     0.136481   \n3      0.081477   4700.0       3.769          0.34    6.733906     0.000000   \n4      0.820595   6300.0       3.450          0.33    2.222257     0.082611   \n5      2.013716   4700.0       2.087          0.34  235.267573     0.062442   \n6      5.602933   6300.0       2.100          0.33  401.682486     0.610148   \n7      7.569628   4700.0       2.087          0.34  290.219805     0.033946   \n8      2.135256   6300.0       2.100          0.33  544.129835     0.468517   \n9      9.457761   4700.0       2.087          0.34  492.091897     0.070023   \n\n  tyre_pressure         tyre_friction  odometer  fuel_consumed  \\\n0  (0, 0, 0, 0)  [3.5, 3.5, 3.5, 3.5]  0.000000   0.000000e+00   \n1  (0, 0, 0, 0)  [3.5, 3.5, 3.5, 3.5]  0.000000   0.000000e+00   \n2  (0, 0, 0, 0)  [3.5, 3.5, 3.5, 3.5]  0.029130   5.490777e-06   \n3  (0, 0, 0, 0)  [3.5, 3.5, 3.5, 3.5]  0.006514   4.736946e-07   \n4  (0, 0, 0, 0)  [3.5, 3.5, 3.5, 3.5]  0.062866   1.507613e-05   \n5  (0, 0, 0, 0)  [3.5, 3.5, 3.5, 3.5]  0.156716   1.832286e-05   \n6  (0, 0, 0, 0)  [3.5, 3.5, 3.5, 3.5]  0.251545   5.539213e-05   \n7  (0, 0, 0, 0)  [3.5, 3.5, 3.5, 3.5]  0.386199   1.173378e-04   \n8  (0, 0, 0, 0)  [3.5, 3.5, 3.5, 3.5]  0.658809   8.949124e-05   \n9  (0, 0, 0, 0)  [3.5, 3.5, 3.5, 3.5]  0.736805   3.058719e-04   \n\n   ignition_status  engine_oil_life  new_battery_percent  seatbelt_status  \n0             True       100.000000            99.997674            False  \n1             True       100.000000            99.998280            False  \n2             True        99.999999            99.995348            False  \n3             True       100.000000            99.996560            False  \n4            False        99.999999            99.993022            False  \n5             True        99.999997            99.994840            False  \n6             True        99.999994            99.990696            False  \n7             True        99.999991            99.993120            False  \n8             True        99.999985            99.988371            False  \n9             True        99.999984            99.991400            False  ",
      "text/html": "<div>\n<style scoped>\n    .dataframe tbody tr th:only-of-type {\n        vertical-align: middle;\n    }\n\n    .dataframe tbody tr th {\n        vertical-align: top;\n    }\n\n    .dataframe thead th {\n        text-align: right;\n    }\n</style>\n<table border=\"1\" class=\"dataframe\">\n  <thead>\n    <tr style=\"text-align: right;\">\n      <th></th>\n      <th>car_weight</th>\n      <th>timestamp</th>\n      <th>vehicle_id</th>\n      <th>gear</th>\n      <th>throttle</th>\n      <th>speed</th>\n      <th>acceleration</th>\n      <th>max_rpm</th>\n      <th>gear_ratio</th>\n      <th>wheel_radius</th>\n      <th>engine_rpm</th>\n      <th>inclination</th>\n      <th>tyre_pressure</th>\n      <th>tyre_friction</th>\n      <th>odometer</th>\n      <th>fuel_consumed</th>\n      <th>ignition_status</th>\n      <th>engine_oil_life</th>\n      <th>new_battery_percent</th>\n      <th>seatbelt_status</th>\n    </tr>\n  </thead>\n  <tbody>\n    <tr>\n      <th>0</th>\n      <td>995.0</td>\n      <td>1.708230e+09</td>\n      <td>0</td>\n      <td>0</td>\n      <td>0.85</td>\n      <td>1.061666</td>\n      <td>25.723639</td>\n      <td>6300.0</td>\n      <td>3.450</td>\n      <td>0.33</td>\n      <td>30.737297</td>\n      <td>0.068049</td>\n      <td>(0, 0, 0, 0)</td>\n      <td>[3.5, 3.5, 3.5, 3.5]</td>\n      <td>0.000000</td>\n      <td>0.000000e+00</td>\n      <td>True</td>\n      <td>100.000000</td>\n      <td>99.997674</td>\n      <td>False</td>\n    </tr>\n    <tr>\n      <th>1</th>\n      <td>1265.0</td>\n      <td>1.708230e+09</td>\n      <td>1</td>\n      <td>0</td>\n      <td>0.85</td>\n      <td>0.816888</td>\n      <td>28.389387</td>\n      <td>4700.0</td>\n      <td>3.769</td>\n      <td>0.34</td>\n      <td>22.954885</td>\n      <td>0.000000</td>\n      <td>(0, 0, 0, 0)</td>\n      <td>[3.5, 3.5, 3.5, 3.5]</td>\n      <td>0.000000</td>\n      <td>0.000000e+00</td>\n      <td>True</td>\n      <td>100.000000</td>\n      <td>99.998280</td>\n      <td>False</td>\n    </tr>\n    <tr>\n      <th>2</th>\n      <td>995.0</td>\n      <td>1.708230e+09</td>\n      <td>0</td>\n      <td>0</td>\n      <td>0.85</td>\n      <td>0.274379</td>\n      <td>0.511401</td>\n      <td>6300.0</td>\n      <td>3.450</td>\n      <td>0.33</td>\n      <td>7.943791</td>\n      <td>0.136481</td>\n      <td>(0, 0, 0, 0)</td>\n      <td>[3.5, 3.5, 3.5, 3.5]</td>\n      <td>0.029130</td>\n      <td>5.490777e-06</td>\n      <td>True</td>\n      <td>99.999999</td>\n      <td>99.995348</td>\n      <td>False</td>\n    </tr>\n    <tr>\n      <th>3</th>\n      <td>1265.0</td>\n      <td>1.708230e+09</td>\n      <td>1</td>\n      <td>0</td>\n      <td>0.85</td>\n      <td>0.239637</td>\n      <td>0.081477</td>\n      <td>4700.0</td>\n      <td>3.769</td>\n      <td>0.34</td>\n      <td>6.733906</td>\n      <td>0.000000</td>\n      <td>(0, 0, 0, 0)</td>\n      <td>[3.5, 3.5, 3.5, 3.5]</td>\n      <td>0.006514</td>\n      <td>4.736946e-07</td>\n      <td>True</td>\n      <td>100.000000</td>\n      <td>99.996560</td>\n      <td>False</td>\n    </tr>\n    <tr>\n      <th>4</th>\n      <td>995.0</td>\n      <td>1.708230e+09</td>\n      <td>0</td>\n      <td>0</td>\n      <td>0.85</td>\n      <td>0.076757</td>\n      <td>0.820595</td>\n      <td>6300.0</td>\n      <td>3.450</td>\n      <td>0.33</td>\n      <td>2.222257</td>\n      <td>0.082611</td>\n      <td>(0, 0, 0, 0)</td>\n      <td>[3.5, 3.5, 3.5, 3.5]</td>\n      <td>0.062866</td>\n      <td>1.507613e-05</td>\n      <td>False</td>\n      <td>99.999999</td>\n      <td>99.993022</td>\n      <td>False</td>\n    </tr>\n    <tr>\n      <th>5</th>\n      <td>1265.0</td>\n      <td>1.708230e+09</td>\n      <td>1</td>\n      <td>1</td>\n      <td>0.85</td>\n      <td>1.162808</td>\n      <td>2.013716</td>\n      <td>4700.0</td>\n      <td>2.087</td>\n      <td>0.34</td>\n      <td>235.267573</td>\n      <td>0.062442</td>\n      <td>(0, 0, 0, 0)</td>\n      <td>[3.5, 3.5, 3.5, 3.5]</td>\n      <td>0.156716</td>\n      <td>1.832286e-05</td>\n      <td>True</td>\n      <td>99.999997</td>\n      <td>99.994840</td>\n      <td>False</td>\n    </tr>\n    <tr>\n      <th>6</th>\n      <td>995.0</td>\n      <td>1.708230e+09</td>\n      <td>0</td>\n      <td>1</td>\n      <td>0.85</td>\n      <td>1.681099</td>\n      <td>5.602933</td>\n      <td>6300.0</td>\n      <td>2.100</td>\n      <td>0.33</td>\n      <td>401.682486</td>\n      <td>0.610148</td>\n      <td>(0, 0, 0, 0)</td>\n      <td>[3.5, 3.5, 3.5, 3.5]</td>\n      <td>0.251545</td>\n      <td>5.539213e-05</td>\n      <td>True</td>\n      <td>99.999994</td>\n      <td>99.990696</td>\n      <td>False</td>\n    </tr>\n    <tr>\n      <th>7</th>\n      <td>1265.0</td>\n      <td>1.708230e+09</td>\n      <td>1</td>\n      <td>1</td>\n      <td>0.85</td>\n      <td>1.434408</td>\n      <td>7.569628</td>\n      <td>4700.0</td>\n      <td>2.087</td>\n      <td>0.34</td>\n      <td>290.219805</td>\n      <td>0.033946</td>\n      <td>(0, 0, 0, 0)</td>\n      <td>[3.5, 3.5, 3.5, 3.5]</td>\n      <td>0.386199</td>\n      <td>1.173378e-04</td>\n      <td>True</td>\n      <td>99.999991</td>\n      <td>99.993120</td>\n      <td>False</td>\n    </tr>\n    <tr>\n      <th>8</th>\n      <td>995.0</td>\n      <td>1.708230e+09</td>\n      <td>0</td>\n      <td>1</td>\n      <td>0.85</td>\n      <td>2.277262</td>\n      <td>2.135256</td>\n      <td>6300.0</td>\n      <td>2.100</td>\n      <td>0.33</td>\n      <td>544.129835</td>\n      <td>0.468517</td>\n      <td>(0, 0, 0, 0)</td>\n      <td>[3.5, 3.5, 3.5, 3.5]</td>\n      <td>0.658809</td>\n      <td>8.949124e-05</td>\n      <td>True</td>\n      <td>99.999985</td>\n      <td>99.988371</td>\n      <td>False</td>\n    </tr>\n    <tr>\n      <th>9</th>\n      <td>1265.0</td>\n      <td>1.708230e+09</td>\n      <td>1</td>\n      <td>1</td>\n      <td>0.85</td>\n      <td>2.432159</td>\n      <td>9.457761</td>\n      <td>4700.0</td>\n      <td>2.087</td>\n      <td>0.34</td>\n      <td>492.091897</td>\n      <td>0.070023</td>\n      <td>(0, 0, 0, 0)</td>\n      <td>[3.5, 3.5, 3.5, 3.5]</td>\n      <td>0.736805</td>\n      <td>3.058719e-04</td>\n      <td>True</td>\n      <td>99.999984</td>\n      <td>99.991400</td>\n      <td>False</td>\n    </tr>\n  </tbody>\n</table>\n</div>"
     },
     "execution_count": 41,
     "metadata": {},
     "output_type": "execute_result"
    }
   ],
   "source": [
    "df.head(10)"
   ]
  },
  {
   "cell_type": "code",
   "execution_count": 44,
   "id": "8d803258916a3cc9",
   "metadata": {
    "collapsed": false,
    "ExecuteTime": {
     "end_time": "2024-02-18T04:26:01.035219700Z",
     "start_time": "2024-02-18T04:26:01.021257400Z"
    }
   },
   "outputs": [
    {
     "data": {
      "text/plain": "0      False\n2      False\n4      False\n6      False\n8      False\n10     False\n12     False\n14     False\n16     False\n18     False\n20     False\n22     False\n24     False\n26     False\n28     False\n30     False\n32     False\n34     False\n36     False\n38     False\n40     False\n42     False\n44     False\n46     False\n48     False\n50     False\n52     False\n54     False\n56     False\n58     False\n60     False\n62     False\n64     False\n66     False\n68     False\n70     False\n72     False\n74     False\n76     False\n78     False\n80     False\n82     False\n84     False\n86     False\n88     False\n90     False\n92     False\n94     False\n96     False\n98     False\n100    False\n102    False\n104    False\n106    False\n108    False\n110     True\n112     True\n114     True\n116     True\n118     True\nName: seatbelt_status, dtype: bool"
     },
     "execution_count": 44,
     "metadata": {},
     "output_type": "execute_result"
    }
   ],
   "source": [
    "df[df[\"vehicle_id\"] ==0][\"seatbelt_status\"]"
   ]
  },
  {
   "cell_type": "code",
   "execution_count": null,
   "id": "8f6431ccbd9e5481",
   "metadata": {
    "collapsed": false
   },
   "outputs": [],
   "source": []
  }
 ],
 "metadata": {
  "kernelspec": {
   "display_name": "Python 3 (ipykernel)",
   "language": "python",
   "name": "python3"
  },
  "language_info": {
   "codemirror_mode": {
    "name": "ipython",
    "version": 3
   },
   "file_extension": ".py",
   "mimetype": "text/x-python",
   "name": "python",
   "nbconvert_exporter": "python",
   "pygments_lexer": "ipython3",
   "version": "3.8.10"
  }
 },
 "nbformat": 4,
 "nbformat_minor": 5
}
